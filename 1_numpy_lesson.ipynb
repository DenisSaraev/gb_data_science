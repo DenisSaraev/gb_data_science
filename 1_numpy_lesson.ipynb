{
 "cells": [
  {
   "cell_type": "markdown",
   "id": "9f27aba6",
   "metadata": {},
   "source": [
    "# VECTORS"
   ]
  },
  {
   "cell_type": "markdown",
   "id": "69192e70",
   "metadata": {},
   "source": [
    "## create vectors"
   ]
  },
  {
   "cell_type": "code",
   "execution_count": 1,
   "id": "492cc49f",
   "metadata": {},
   "outputs": [],
   "source": [
    "import numpy as np"
   ]
  },
  {
   "cell_type": "code",
   "execution_count": 2,
   "id": "ddc9ba89",
   "metadata": {},
   "outputs": [],
   "source": [
    "a=np.array([0,1,2,3,4])"
   ]
  },
  {
   "cell_type": "code",
   "execution_count": 3,
   "id": "41a12b10",
   "metadata": {},
   "outputs": [],
   "source": [
    "b=np.array([5,6,7,8,9])"
   ]
  },
  {
   "cell_type": "code",
   "execution_count": 4,
   "id": "7a0ea265",
   "metadata": {},
   "outputs": [
    {
     "data": {
      "text/plain": [
       "5"
      ]
     },
     "execution_count": 4,
     "metadata": {},
     "output_type": "execute_result"
    }
   ],
   "source": [
    "a.size"
   ]
  },
  {
   "cell_type": "code",
   "execution_count": 5,
   "id": "043b168a",
   "metadata": {},
   "outputs": [
    {
     "data": {
      "text/plain": [
       "5"
      ]
     },
     "execution_count": 5,
     "metadata": {},
     "output_type": "execute_result"
    }
   ],
   "source": [
    "b.size"
   ]
  },
  {
   "cell_type": "code",
   "execution_count": 6,
   "id": "7aca203a",
   "metadata": {},
   "outputs": [
    {
     "data": {
      "text/plain": [
       "(5,)"
      ]
     },
     "execution_count": 6,
     "metadata": {},
     "output_type": "execute_result"
    }
   ],
   "source": [
    "a.shape"
   ]
  },
  {
   "cell_type": "code",
   "execution_count": 7,
   "id": "1bc7721f",
   "metadata": {},
   "outputs": [
    {
     "data": {
      "text/plain": [
       "(5,)"
      ]
     },
     "execution_count": 7,
     "metadata": {},
     "output_type": "execute_result"
    }
   ],
   "source": [
    "b.shape"
   ]
  },
  {
   "cell_type": "markdown",
   "id": "1895f870",
   "metadata": {},
   "source": [
    "## sum vectors"
   ]
  },
  {
   "cell_type": "code",
   "execution_count": 8,
   "id": "a41a2178",
   "metadata": {},
   "outputs": [
    {
     "data": {
      "text/plain": [
       "array([ 5,  7,  9, 11, 13])"
      ]
     },
     "execution_count": 8,
     "metadata": {},
     "output_type": "execute_result"
    }
   ],
   "source": [
    "c=a+b\n",
    "c"
   ]
  },
  {
   "cell_type": "markdown",
   "id": "3e062c1e",
   "metadata": {},
   "source": [
    "another way to sum:"
   ]
  },
  {
   "cell_type": "code",
   "execution_count": 9,
   "id": "afdb34f0",
   "metadata": {},
   "outputs": [
    {
     "data": {
      "text/plain": [
       "array([ 5,  7,  9, 11, 13])"
      ]
     },
     "execution_count": 9,
     "metadata": {},
     "output_type": "execute_result"
    }
   ],
   "source": [
    "c=np.add(a,b)\n",
    "c"
   ]
  },
  {
   "cell_type": "markdown",
   "id": "964b07c2",
   "metadata": {},
   "source": [
    "## subtraction vectors"
   ]
  },
  {
   "cell_type": "code",
   "execution_count": 10,
   "id": "13045a30",
   "metadata": {},
   "outputs": [],
   "source": [
    "a=np.array([5,4,8,4,3])\n",
    "b=np.array([3,5,7,1,3])"
   ]
  },
  {
   "cell_type": "code",
   "execution_count": 11,
   "id": "a5b83524",
   "metadata": {},
   "outputs": [
    {
     "data": {
      "text/plain": [
       "array([ 2, -1,  1,  3,  0])"
      ]
     },
     "execution_count": 11,
     "metadata": {},
     "output_type": "execute_result"
    }
   ],
   "source": [
    "c=a-b\n",
    "c"
   ]
  },
  {
   "cell_type": "markdown",
   "id": "03c9de24",
   "metadata": {},
   "source": [
    "another way to substract:"
   ]
  },
  {
   "cell_type": "code",
   "execution_count": 12,
   "id": "6b9bbb07",
   "metadata": {},
   "outputs": [
    {
     "data": {
      "text/plain": [
       "array([ 2, -1,  1,  3,  0])"
      ]
     },
     "execution_count": 12,
     "metadata": {},
     "output_type": "execute_result"
    }
   ],
   "source": [
    "d=np.subtract(a,b)\n",
    "d"
   ]
  },
  {
   "cell_type": "markdown",
   "id": "0de10e7b",
   "metadata": {},
   "source": [
    "## multiplication vectors"
   ]
  },
  {
   "cell_type": "code",
   "execution_count": 13,
   "id": "84acb36a",
   "metadata": {},
   "outputs": [
    {
     "data": {
      "text/plain": [
       "array([5, 4, 8, 4, 3])"
      ]
     },
     "execution_count": 13,
     "metadata": {},
     "output_type": "execute_result"
    }
   ],
   "source": [
    "a=np.array([5,4,8,4,3])\n",
    "a"
   ]
  },
  {
   "cell_type": "code",
   "execution_count": 14,
   "id": "4ed8a749",
   "metadata": {},
   "outputs": [
    {
     "data": {
      "text/plain": [
       "array([10,  8, 16,  8,  6])"
      ]
     },
     "execution_count": 14,
     "metadata": {},
     "output_type": "execute_result"
    }
   ],
   "source": [
    "c=a*2\n",
    "c"
   ]
  },
  {
   "cell_type": "code",
   "execution_count": 15,
   "id": "b8d31c9e",
   "metadata": {},
   "outputs": [
    {
     "data": {
      "text/plain": [
       "array([-50, -40, -80, -40, -30])"
      ]
     },
     "execution_count": 15,
     "metadata": {},
     "output_type": "execute_result"
    }
   ],
   "source": [
    "c=-10*a\n",
    "c"
   ]
  },
  {
   "cell_type": "code",
   "execution_count": 16,
   "id": "11ba119b",
   "metadata": {},
   "outputs": [
    {
     "data": {
      "text/plain": [
       "array([2.5, 2. , 4. , 2. , 1.5])"
      ]
     },
     "execution_count": 16,
     "metadata": {},
     "output_type": "execute_result"
    }
   ],
   "source": [
    "c=0.5*a\n",
    "c"
   ]
  },
  {
   "cell_type": "markdown",
   "id": "ac1cd8c0",
   "metadata": {},
   "source": [
    "another way to multiplication"
   ]
  },
  {
   "cell_type": "code",
   "execution_count": 17,
   "id": "3450d497",
   "metadata": {},
   "outputs": [
    {
     "data": {
      "text/plain": [
       "array([-50, -40, -80, -40, -30])"
      ]
     },
     "execution_count": 17,
     "metadata": {},
     "output_type": "execute_result"
    }
   ],
   "source": [
    "a.dot(-10)"
   ]
  },
  {
   "cell_type": "code",
   "execution_count": 18,
   "id": "0c7a9da2",
   "metadata": {},
   "outputs": [
    {
     "data": {
      "text/plain": [
       "array([-50, -40, -80, -40, -30])"
      ]
     },
     "execution_count": 18,
     "metadata": {},
     "output_type": "execute_result"
    }
   ],
   "source": [
    "np.dot(-10,a)"
   ]
  },
  {
   "cell_type": "code",
   "execution_count": 19,
   "id": "43458f56",
   "metadata": {},
   "outputs": [
    {
     "data": {
      "text/plain": [
       "array([-50, -40, -80, -40, -30])"
      ]
     },
     "execution_count": 19,
     "metadata": {},
     "output_type": "execute_result"
    }
   ],
   "source": [
    "np.multiply(-10,a)"
   ]
  },
  {
   "cell_type": "markdown",
   "id": "3803401f",
   "metadata": {},
   "source": [
    "## scalar multiplication vectors"
   ]
  },
  {
   "cell_type": "code",
   "execution_count": 20,
   "id": "df9a6a25",
   "metadata": {},
   "outputs": [],
   "source": [
    "a=np.array([1,2,3])\n",
    "b=np.array([4,5,6])"
   ]
  },
  {
   "cell_type": "code",
   "execution_count": 21,
   "id": "c19eefe8",
   "metadata": {},
   "outputs": [
    {
     "data": {
      "text/plain": [
       "32"
      ]
     },
     "execution_count": 21,
     "metadata": {},
     "output_type": "execute_result"
    }
   ],
   "source": [
    "sp=a[0]*b[0]+a[1]*b[1]+a[2]*b[2]\n",
    "sp"
   ]
  },
  {
   "cell_type": "markdown",
   "id": "fe09fd13",
   "metadata": {},
   "source": [
    "another way to multiplication vectors"
   ]
  },
  {
   "cell_type": "code",
   "execution_count": 22,
   "id": "30ff21bd",
   "metadata": {},
   "outputs": [
    {
     "data": {
      "text/plain": [
       "32"
      ]
     },
     "execution_count": 22,
     "metadata": {},
     "output_type": "execute_result"
    }
   ],
   "source": [
    "a @ b"
   ]
  },
  {
   "cell_type": "code",
   "execution_count": 23,
   "id": "f4653b65",
   "metadata": {},
   "outputs": [
    {
     "data": {
      "text/plain": [
       "32"
      ]
     },
     "execution_count": 23,
     "metadata": {},
     "output_type": "execute_result"
    }
   ],
   "source": [
    "sp=np.dot(a,b)\n",
    "sp"
   ]
  },
  {
   "cell_type": "markdown",
   "id": "2c97f917",
   "metadata": {},
   "source": [
    "# MATRIX"
   ]
  },
  {
   "cell_type": "markdown",
   "id": "f2e61724",
   "metadata": {},
   "source": [
    "## create matrix"
   ]
  },
  {
   "cell_type": "code",
   "execution_count": 24,
   "id": "02254855",
   "metadata": {},
   "outputs": [
    {
     "data": {
      "text/plain": [
       "(3, 2)"
      ]
     },
     "execution_count": 24,
     "metadata": {},
     "output_type": "execute_result"
    }
   ],
   "source": [
    "A=np.array([[0,1],\n",
    "            [2,3],\n",
    "            [4,5]])\n",
    "A.shape"
   ]
  },
  {
   "cell_type": "code",
   "execution_count": 25,
   "id": "93451505",
   "metadata": {},
   "outputs": [
    {
     "data": {
      "text/plain": [
       "(3, 2)"
      ]
     },
     "execution_count": 25,
     "metadata": {},
     "output_type": "execute_result"
    }
   ],
   "source": [
    "B=np.array([[6,7],\n",
    "            [8,9],\n",
    "            [10,11]])\n",
    "B.shape"
   ]
  },
  {
   "cell_type": "markdown",
   "id": "3a1427e8",
   "metadata": {},
   "source": [
    "## sum,subtract,multiply scalar matrix"
   ]
  },
  {
   "cell_type": "code",
   "execution_count": 26,
   "id": "9aca32e5",
   "metadata": {},
   "outputs": [
    {
     "data": {
      "text/plain": [
       "array([[ 6,  8],\n",
       "       [10, 12],\n",
       "       [14, 16]])"
      ]
     },
     "execution_count": 26,
     "metadata": {},
     "output_type": "execute_result"
    }
   ],
   "source": [
    "C = A+B\n",
    "C"
   ]
  },
  {
   "cell_type": "markdown",
   "id": "e83810c9",
   "metadata": {},
   "source": [
    "another way to sum matrix"
   ]
  },
  {
   "cell_type": "code",
   "execution_count": 27,
   "id": "a3a61315",
   "metadata": {},
   "outputs": [
    {
     "data": {
      "text/plain": [
       "array([[ 6,  8],\n",
       "       [10, 12],\n",
       "       [14, 16]])"
      ]
     },
     "execution_count": 27,
     "metadata": {},
     "output_type": "execute_result"
    }
   ],
   "source": [
    "C=np.add(A,B)\n",
    "C"
   ]
  },
  {
   "cell_type": "code",
   "execution_count": 28,
   "id": "1e2ab1b0",
   "metadata": {},
   "outputs": [
    {
     "data": {
      "text/plain": [
       "array([[ 5,  6],\n",
       "       [ 8,  0],\n",
       "       [-2,  4]])"
      ]
     },
     "execution_count": 28,
     "metadata": {},
     "output_type": "execute_result"
    }
   ],
   "source": [
    "A=np.array([[11,13],\n",
    "            [16,9],\n",
    "            [8,15]])\n",
    "B=np.array([[6,7],\n",
    "            [8,9],\n",
    "            [10,11]])\n",
    "D=A-B\n",
    "D"
   ]
  },
  {
   "cell_type": "code",
   "execution_count": 29,
   "id": "88da05a7",
   "metadata": {},
   "outputs": [
    {
     "data": {
      "text/plain": [
       "array([[ 5,  6],\n",
       "       [ 8,  0],\n",
       "       [-2,  4]])"
      ]
     },
     "execution_count": 29,
     "metadata": {},
     "output_type": "execute_result"
    }
   ],
   "source": [
    "D=np.subtract(A,B)\n",
    "D"
   ]
  },
  {
   "cell_type": "code",
   "execution_count": 30,
   "id": "6a5ca1b4",
   "metadata": {},
   "outputs": [
    {
     "data": {
      "text/plain": [
       "array([[1, 2],\n",
       "       [3, 4]])"
      ]
     },
     "execution_count": 30,
     "metadata": {},
     "output_type": "execute_result"
    }
   ],
   "source": [
    "X=np.array([[1,2],[3,4]])\n",
    "X"
   ]
  },
  {
   "cell_type": "code",
   "execution_count": 31,
   "id": "eee9d2a3",
   "metadata": {},
   "outputs": [
    {
     "data": {
      "text/plain": [
       "array([[ 3,  6],\n",
       "       [ 9, 12]])"
      ]
     },
     "execution_count": 31,
     "metadata": {},
     "output_type": "execute_result"
    }
   ],
   "source": [
    "Y=X*3\n",
    "Y"
   ]
  },
  {
   "cell_type": "code",
   "execution_count": 32,
   "id": "2ed7ed7e",
   "metadata": {},
   "outputs": [
    {
     "data": {
      "text/plain": [
       "array([[ 3,  6],\n",
       "       [ 9, 12]])"
      ]
     },
     "execution_count": 32,
     "metadata": {},
     "output_type": "execute_result"
    }
   ],
   "source": [
    "Y=np.dot(X,3)\n",
    "Y"
   ]
  },
  {
   "cell_type": "markdown",
   "id": "caa651c5",
   "metadata": {},
   "source": [
    "## multiply matrix"
   ]
  },
  {
   "cell_type": "code",
   "execution_count": 33,
   "id": "6799ea63",
   "metadata": {},
   "outputs": [
    {
     "data": {
      "text/plain": [
       "array([[1, 2],\n",
       "       [3, 4],\n",
       "       [5, 6]])"
      ]
     },
     "execution_count": 33,
     "metadata": {},
     "output_type": "execute_result"
    }
   ],
   "source": [
    "X1=np.array([[1,2],\n",
    "             [3,4],\n",
    "             [5,6]])\n",
    "X1"
   ]
  },
  {
   "cell_type": "code",
   "execution_count": 34,
   "id": "20d43e81",
   "metadata": {},
   "outputs": [
    {
     "data": {
      "text/plain": [
       "array([[ 7,  8,  9, 10],\n",
       "       [11, 12, 13, 14]])"
      ]
     },
     "execution_count": 34,
     "metadata": {},
     "output_type": "execute_result"
    }
   ],
   "source": [
    "X2=np.array([[7,8,9,10],\n",
    "             [11,12,13,14]])\n",
    "X2"
   ]
  },
  {
   "cell_type": "markdown",
   "id": "0b59cc36",
   "metadata": {},
   "source": [
    "число столбцов первой матрицы = числу строк второй матрицы"
   ]
  },
  {
   "cell_type": "code",
   "execution_count": 35,
   "id": "460f9c9e",
   "metadata": {},
   "outputs": [
    {
     "data": {
      "text/plain": [
       "True"
      ]
     },
     "execution_count": 35,
     "metadata": {},
     "output_type": "execute_result"
    }
   ],
   "source": [
    "X1.shape[1]==X2.shape[0]"
   ]
  },
  {
   "cell_type": "code",
   "execution_count": 36,
   "id": "7c0bcb78",
   "metadata": {},
   "outputs": [
    {
     "data": {
      "text/plain": [
       "((3, 2), (2, 4))"
      ]
     },
     "execution_count": 36,
     "metadata": {},
     "output_type": "execute_result"
    }
   ],
   "source": [
    "X1.shape, X2.shape"
   ]
  },
  {
   "cell_type": "code",
   "execution_count": 37,
   "id": "85eb3a1e",
   "metadata": {},
   "outputs": [
    {
     "data": {
      "text/plain": [
       "array([[ 29,  32,  35,  38],\n",
       "       [ 65,  72,  79,  86],\n",
       "       [101, 112, 123, 134]])"
      ]
     },
     "execution_count": 37,
     "metadata": {},
     "output_type": "execute_result"
    }
   ],
   "source": [
    "Z=np.dot(X1,X2)\n",
    "Z"
   ]
  },
  {
   "cell_type": "code",
   "execution_count": 38,
   "id": "59b4b7fc",
   "metadata": {},
   "outputs": [
    {
     "data": {
      "text/plain": [
       "(3, 4)"
      ]
     },
     "execution_count": 38,
     "metadata": {},
     "output_type": "execute_result"
    }
   ],
   "source": [
    "Z.shape"
   ]
  },
  {
   "cell_type": "markdown",
   "id": "4a0464c0",
   "metadata": {},
   "source": [
    "как получена Z"
   ]
  },
  {
   "cell_type": "code",
   "execution_count": 39,
   "id": "031fef59",
   "metadata": {},
   "outputs": [
    {
     "data": {
      "text/plain": [
       "29"
      ]
     },
     "execution_count": 39,
     "metadata": {},
     "output_type": "execute_result"
    }
   ],
   "source": [
    "Z[0,0]"
   ]
  },
  {
   "cell_type": "code",
   "execution_count": 40,
   "id": "f1ad8efe",
   "metadata": {},
   "outputs": [
    {
     "data": {
      "text/plain": [
       "29"
      ]
     },
     "execution_count": 40,
     "metadata": {},
     "output_type": "execute_result"
    }
   ],
   "source": [
    "X1[0,0]*X2[0,0]+X1[0,1]*X2[1,0]"
   ]
  },
  {
   "cell_type": "code",
   "execution_count": 41,
   "id": "4e8f751b",
   "metadata": {},
   "outputs": [
    {
     "data": {
      "text/plain": [
       "32"
      ]
     },
     "execution_count": 41,
     "metadata": {},
     "output_type": "execute_result"
    }
   ],
   "source": [
    "Z[0,1]"
   ]
  },
  {
   "cell_type": "code",
   "execution_count": 42,
   "id": "4f080cef",
   "metadata": {},
   "outputs": [
    {
     "data": {
      "text/plain": [
       "32"
      ]
     },
     "execution_count": 42,
     "metadata": {},
     "output_type": "execute_result"
    }
   ],
   "source": [
    "X1[0,0]*X2[0,1]+X1[0,1]*X2[1,1]"
   ]
  },
  {
   "cell_type": "markdown",
   "id": "7c69a5f8",
   "metadata": {},
   "source": [
    "## матрицы в квадрат"
   ]
  },
  {
   "cell_type": "code",
   "execution_count": 43,
   "id": "57aa545c",
   "metadata": {},
   "outputs": [],
   "source": [
    "A=np.array([[0,1,2],\n",
    "            [3,4,5],\n",
    "            [6,7,8]])"
   ]
  },
  {
   "cell_type": "code",
   "execution_count": 44,
   "id": "9ac4a1ef",
   "metadata": {},
   "outputs": [
    {
     "data": {
      "text/plain": [
       "array([[0, 1, 2],\n",
       "       [3, 4, 5],\n",
       "       [6, 7, 8]])"
      ]
     },
     "execution_count": 44,
     "metadata": {},
     "output_type": "execute_result"
    }
   ],
   "source": [
    "A_square=np.dot(A,A)\n",
    "A"
   ]
  },
  {
   "cell_type": "code",
   "execution_count": 45,
   "id": "ce582168",
   "metadata": {},
   "outputs": [
    {
     "data": {
      "text/plain": [
       "array([[ 15,  18,  21],\n",
       "       [ 42,  54,  66],\n",
       "       [ 69,  90, 111]])"
      ]
     },
     "execution_count": 45,
     "metadata": {},
     "output_type": "execute_result"
    }
   ],
   "source": [
    "A_square=np.linalg.matrix_power(A,2)\n",
    "A_square"
   ]
  },
  {
   "cell_type": "markdown",
   "id": "d5accb6b",
   "metadata": {},
   "source": [
    "## единичная матрица\n",
    "квадратная матрица с единицами по главной диагонали и нулями в остальных ячейках"
   ]
  },
  {
   "cell_type": "code",
   "execution_count": 46,
   "id": "1c97fd0f",
   "metadata": {},
   "outputs": [
    {
     "data": {
      "text/plain": [
       "array([[1., 0., 0.],\n",
       "       [0., 1., 0.],\n",
       "       [0., 0., 1.]])"
      ]
     },
     "execution_count": 46,
     "metadata": {},
     "output_type": "execute_result"
    }
   ],
   "source": [
    "I=np.eye(3)\n",
    "I"
   ]
  },
  {
   "cell_type": "markdown",
   "id": "b39bfe07",
   "metadata": {},
   "source": [
    "при умножение матрицы на единичную, всегда получаем исходную"
   ]
  },
  {
   "cell_type": "code",
   "execution_count": 47,
   "id": "5ef81caf",
   "metadata": {},
   "outputs": [
    {
     "data": {
      "text/plain": [
       "array([[0., 1., 2.],\n",
       "       [3., 4., 5.],\n",
       "       [6., 7., 8.]])"
      ]
     },
     "execution_count": 47,
     "metadata": {},
     "output_type": "execute_result"
    }
   ],
   "source": [
    "np.dot(A,I)"
   ]
  },
  {
   "cell_type": "markdown",
   "id": "09924e9e",
   "metadata": {},
   "source": [
    "## транспонирование"
   ]
  },
  {
   "cell_type": "code",
   "execution_count": 48,
   "id": "67d98251",
   "metadata": {},
   "outputs": [],
   "source": [
    "X=np.array([[1,2],\n",
    "            [3,4],\n",
    "            [5,6]])"
   ]
  },
  {
   "cell_type": "code",
   "execution_count": 49,
   "id": "d193c9b8",
   "metadata": {},
   "outputs": [
    {
     "data": {
      "text/plain": [
       "array([[1, 3, 5],\n",
       "       [2, 4, 6]])"
      ]
     },
     "execution_count": 49,
     "metadata": {},
     "output_type": "execute_result"
    }
   ],
   "source": [
    "Xt=X.transpose()\n",
    "Xt"
   ]
  },
  {
   "cell_type": "code",
   "execution_count": 50,
   "id": "9562659e",
   "metadata": {},
   "outputs": [
    {
     "data": {
      "text/plain": [
       "array([[1, 3, 5],\n",
       "       [2, 4, 6]])"
      ]
     },
     "execution_count": 50,
     "metadata": {},
     "output_type": "execute_result"
    }
   ],
   "source": [
    "Xt=X.T\n",
    "Xt"
   ]
  },
  {
   "cell_type": "markdown",
   "id": "2b8caf48",
   "metadata": {},
   "source": [
    "пример применения:"
   ]
  },
  {
   "cell_type": "code",
   "execution_count": 51,
   "id": "8443bb96",
   "metadata": {},
   "outputs": [],
   "source": [
    "X=np.array([[1,2],\n",
    "            [3,4],\n",
    "            [5,6]])"
   ]
  },
  {
   "cell_type": "code",
   "execution_count": 52,
   "id": "dbb3fac9",
   "metadata": {},
   "outputs": [],
   "source": [
    "Y=np.array([[1,2],\n",
    "            [3,4],\n",
    "            [5,6],\n",
    "            [7,8]])"
   ]
  },
  {
   "cell_type": "code",
   "execution_count": 53,
   "id": "2eeeba8b",
   "metadata": {},
   "outputs": [
    {
     "data": {
      "text/plain": [
       "array([[1, 3, 5, 7],\n",
       "       [2, 4, 6, 8]])"
      ]
     },
     "execution_count": 53,
     "metadata": {},
     "output_type": "execute_result"
    }
   ],
   "source": [
    "Yt=Y.T\n",
    "Yt"
   ]
  },
  {
   "cell_type": "code",
   "execution_count": 54,
   "id": "29a66d7a",
   "metadata": {},
   "outputs": [
    {
     "data": {
      "text/plain": [
       "array([[ 5, 11, 17, 23],\n",
       "       [11, 25, 39, 53],\n",
       "       [17, 39, 61, 83]])"
      ]
     },
     "execution_count": 54,
     "metadata": {},
     "output_type": "execute_result"
    }
   ],
   "source": [
    "np.dot(X,Yt)"
   ]
  },
  {
   "cell_type": "markdown",
   "id": "2b719855",
   "metadata": {},
   "source": [
    "## вычисление определителя и ранга\n",
    "Определитель матрицы - это число, которое в каком-то смысле \"определяет\" её свойства. Например, обратную матрицу можно посчитать только для матрицы,определитель которой не равен (по аналогии с тем, что делить можно только на числа, не равные).\n",
    "Ранг матрицы - это число линейно независимых строк данной матрицы."
   ]
  },
  {
   "cell_type": "code",
   "execution_count": 55,
   "id": "ee3a0192",
   "metadata": {},
   "outputs": [],
   "source": [
    "A=np.array([[0,1,2],\n",
    "            [3,4,5],\n",
    "            [6,7,8]])"
   ]
  },
  {
   "cell_type": "code",
   "execution_count": 56,
   "id": "dac962d5",
   "metadata": {},
   "outputs": [
    {
     "data": {
      "text/plain": [
       "0.0"
      ]
     },
     "execution_count": 56,
     "metadata": {},
     "output_type": "execute_result"
    }
   ],
   "source": [
    "np.linalg.det(A) #только для квадратных"
   ]
  },
  {
   "cell_type": "code",
   "execution_count": 57,
   "id": "6c305684",
   "metadata": {},
   "outputs": [
    {
     "data": {
      "text/plain": [
       "2"
      ]
     },
     "execution_count": 57,
     "metadata": {},
     "output_type": "execute_result"
    }
   ],
   "source": [
    "np.linalg.matrix_rank(A)"
   ]
  },
  {
   "cell_type": "code",
   "execution_count": 58,
   "id": "bfd01af9",
   "metadata": {},
   "outputs": [],
   "source": [
    "B=np.array([[7,4,5],\n",
    "            [8,3,2],\n",
    "            [6,10,12]])"
   ]
  },
  {
   "cell_type": "code",
   "execution_count": 59,
   "id": "6dcd8516",
   "metadata": {},
   "outputs": [
    {
     "data": {
      "text/plain": [
       "85.99999999999989"
      ]
     },
     "execution_count": 59,
     "metadata": {},
     "output_type": "execute_result"
    }
   ],
   "source": [
    "np.linalg.det(B)"
   ]
  },
  {
   "cell_type": "code",
   "execution_count": 60,
   "id": "733dd15e",
   "metadata": {},
   "outputs": [
    {
     "data": {
      "text/plain": [
       "3"
      ]
     },
     "execution_count": 60,
     "metadata": {},
     "output_type": "execute_result"
    }
   ],
   "source": [
    "np.linalg.matrix_rank(B)"
   ]
  },
  {
   "cell_type": "markdown",
   "id": "a3040b7c",
   "metadata": {},
   "source": [
    "## обратная матрица\n",
    "Это матрица, которая при умножении на исходную матрицу даёт единичную матрицу"
   ]
  },
  {
   "cell_type": "code",
   "execution_count": 61,
   "id": "5741fcac",
   "metadata": {},
   "outputs": [
    {
     "data": {
      "text/plain": [
       "array([[ 7,  4,  5],\n",
       "       [ 8,  3,  2],\n",
       "       [ 6, 10, 12]])"
      ]
     },
     "execution_count": 61,
     "metadata": {},
     "output_type": "execute_result"
    }
   ],
   "source": [
    "B"
   ]
  },
  {
   "cell_type": "code",
   "execution_count": 62,
   "id": "af82cd76",
   "metadata": {},
   "outputs": [
    {
     "data": {
      "text/plain": [
       "array([[ 0.18604651,  0.02325581, -0.08139535],\n",
       "       [-0.97674419,  0.62790698,  0.30232558],\n",
       "       [ 0.72093023, -0.53488372, -0.12790698]])"
      ]
     },
     "execution_count": 62,
     "metadata": {},
     "output_type": "execute_result"
    }
   ],
   "source": [
    "B_inv=np.linalg.inv(B)\n",
    "B_inv"
   ]
  },
  {
   "cell_type": "code",
   "execution_count": 63,
   "id": "2a3bee02",
   "metadata": {},
   "outputs": [
    {
     "data": {
      "text/plain": [
       "array([[ 7.,  4.,  5.],\n",
       "       [ 8.,  3.,  2.],\n",
       "       [ 6., 10., 12.]])"
      ]
     },
     "execution_count": 63,
     "metadata": {},
     "output_type": "execute_result"
    }
   ],
   "source": [
    "B_inv_inv=np.linalg.inv(B_inv)\n",
    "B_inv_inv"
   ]
  },
  {
   "cell_type": "markdown",
   "id": "629d000b",
   "metadata": {},
   "source": [
    "## автоматическое создание массивов"
   ]
  },
  {
   "cell_type": "markdown",
   "id": "1e57d7d1",
   "metadata": {},
   "source": [
    "только нули:"
   ]
  },
  {
   "cell_type": "code",
   "execution_count": 65,
   "id": "429471c1",
   "metadata": {},
   "outputs": [
    {
     "data": {
      "text/plain": [
       "array([[0., 0., 0., 0.],\n",
       "       [0., 0., 0., 0.],\n",
       "       [0., 0., 0., 0.]])"
      ]
     },
     "execution_count": 65,
     "metadata": {},
     "output_type": "execute_result"
    }
   ],
   "source": [
    "a = np.zeros((3,4))\n",
    "a"
   ]
  },
  {
   "cell_type": "markdown",
   "id": "34c99bae",
   "metadata": {},
   "source": [
    "только единицы:"
   ]
  },
  {
   "cell_type": "code",
   "execution_count": 80,
   "id": "0bcc3dfd",
   "metadata": {},
   "outputs": [
    {
     "data": {
      "text/plain": [
       "array([[1., 1., 1.],\n",
       "       [1., 1., 1.],\n",
       "       [1., 1., 1.],\n",
       "       [1., 1., 1.],\n",
       "       [1., 1., 1.]])"
      ]
     },
     "execution_count": 80,
     "metadata": {},
     "output_type": "execute_result"
    }
   ],
   "source": [
    "a = np.ones((5,3))\n",
    "a"
   ]
  },
  {
   "cell_type": "markdown",
   "id": "976a62d2",
   "metadata": {},
   "source": [
    "векторы. по дэфолту с нуля:"
   ]
  },
  {
   "cell_type": "code",
   "execution_count": 81,
   "id": "b8a8cded",
   "metadata": {},
   "outputs": [
    {
     "data": {
      "text/plain": [
       "array([0, 1, 2, 3, 4, 5, 6, 7, 8, 9])"
      ]
     },
     "execution_count": 81,
     "metadata": {},
     "output_type": "execute_result"
    }
   ],
   "source": [
    "np.arange(10)"
   ]
  },
  {
   "cell_type": "code",
   "execution_count": 73,
   "id": "64545796",
   "metadata": {},
   "outputs": [
    {
     "data": {
      "text/plain": [
       "array([14, 15, 16, 17])"
      ]
     },
     "execution_count": 73,
     "metadata": {},
     "output_type": "execute_result"
    }
   ],
   "source": [
    "np.arange(14,18)"
   ]
  },
  {
   "cell_type": "markdown",
   "id": "722cb4cc",
   "metadata": {},
   "source": [
    "с шагом:"
   ]
  },
  {
   "cell_type": "code",
   "execution_count": 74,
   "id": "9c08dc6b",
   "metadata": {},
   "outputs": [
    {
     "data": {
      "text/plain": [
       "array([0, 2, 4, 6, 8])"
      ]
     },
     "execution_count": 74,
     "metadata": {},
     "output_type": "execute_result"
    }
   ],
   "source": [
    "np.arange(0,10,2)"
   ]
  },
  {
   "cell_type": "code",
   "execution_count": 75,
   "id": "625adb08",
   "metadata": {},
   "outputs": [
    {
     "data": {
      "text/plain": [
       "array([10,  8,  6,  4,  2])"
      ]
     },
     "execution_count": 75,
     "metadata": {},
     "output_type": "execute_result"
    }
   ],
   "source": [
    "np.arange(10,0,-2)"
   ]
  },
  {
   "cell_type": "code",
   "execution_count": 77,
   "id": "7d18529f",
   "metadata": {},
   "outputs": [
    {
     "data": {
      "text/plain": [
       "array([0. , 0.5, 1. , 1.5, 2. , 2.5, 3. , 3.5])"
      ]
     },
     "execution_count": 77,
     "metadata": {},
     "output_type": "execute_result"
    }
   ],
   "source": [
    "np.arange(0,4,0.5)"
   ]
  },
  {
   "cell_type": "code",
   "execution_count": 78,
   "id": "cbe184b2",
   "metadata": {},
   "outputs": [
    {
     "data": {
      "text/plain": [
       "array([0. , 0.1, 0.2, 0.3, 0.4, 0.5, 0.6, 0.7, 0.8, 0.9, 1. , 1.1, 1.2,\n",
       "       1.3, 1.4, 1.5, 1.6, 1.7, 1.8, 1.9, 2. , 2.1, 2.2, 2.3, 2.4, 2.5,\n",
       "       2.6, 2.7, 2.8, 2.9, 3. , 3.1, 3.2, 3.3, 3.4, 3.5, 3.6, 3.7, 3.8,\n",
       "       3.9, 4. , 4.1, 4.2, 4.3, 4.4, 4.5, 4.6, 4.7, 4.8, 4.9, 5. , 5.1,\n",
       "       5.2, 5.3, 5.4, 5.5, 5.6, 5.7, 5.8, 5.9, 6. , 6.1, 6.2, 6.3, 6.4,\n",
       "       6.5, 6.6, 6.7, 6.8, 6.9, 7. , 7.1, 7.2, 7.3, 7.4, 7.5, 7.6, 7.7,\n",
       "       7.8, 7.9, 8. , 8.1, 8.2, 8.3, 8.4, 8.5, 8.6, 8.7, 8.8, 8.9, 9. ,\n",
       "       9.1, 9.2, 9.3, 9.4, 9.5, 9.6, 9.7, 9.8, 9.9])"
      ]
     },
     "execution_count": 78,
     "metadata": {},
     "output_type": "execute_result"
    }
   ],
   "source": [
    "np.linspace(0,9.9,100)"
   ]
  },
  {
   "cell_type": "markdown",
   "id": "8f986b61",
   "metadata": {},
   "source": [
    "степени числа 10:"
   ]
  },
  {
   "cell_type": "code",
   "execution_count": 79,
   "id": "6acf7865",
   "metadata": {},
   "outputs": [
    {
     "data": {
      "text/plain": [
       "array([   1.,   10.,  100., 1000.])"
      ]
     },
     "execution_count": 79,
     "metadata": {},
     "output_type": "execute_result"
    }
   ],
   "source": [
    "np.logspace(0,3,4)"
   ]
  },
  {
   "cell_type": "markdown",
   "id": "65db6ea7",
   "metadata": {},
   "source": [
    "## генерация случайных чисел"
   ]
  },
  {
   "cell_type": "code",
   "execution_count": 82,
   "id": "93866d01",
   "metadata": {},
   "outputs": [
    {
     "data": {
      "text/plain": [
       "0.4175406759411554"
      ]
     },
     "execution_count": 82,
     "metadata": {},
     "output_type": "execute_result"
    }
   ],
   "source": [
    "np.random.sample()"
   ]
  },
  {
   "cell_type": "code",
   "execution_count": 83,
   "id": "d0b24ff0",
   "metadata": {},
   "outputs": [
    {
     "data": {
      "text/plain": [
       "array([0.64842593, 0.02469678, 0.03336947])"
      ]
     },
     "execution_count": 83,
     "metadata": {},
     "output_type": "execute_result"
    }
   ],
   "source": [
    "np.random.sample(3)"
   ]
  },
  {
   "cell_type": "code",
   "execution_count": 84,
   "id": "481e73c8",
   "metadata": {},
   "outputs": [
    {
     "data": {
      "text/plain": [
       "array([[0.06676515, 0.87418919, 0.84430326],\n",
       "       [0.9010795 , 0.62837275, 0.15849639]])"
      ]
     },
     "execution_count": 84,
     "metadata": {},
     "output_type": "execute_result"
    }
   ],
   "source": [
    "np.random.sample((2,3))"
   ]
  },
  {
   "cell_type": "code",
   "execution_count": 86,
   "id": "7dd5c0c8",
   "metadata": {},
   "outputs": [
    {
     "data": {
      "text/plain": [
       "array([[[0.92931824, 0.25905311, 0.9724703 ],\n",
       "        [0.01112163, 0.44064114, 0.11651771],\n",
       "        [0.30718898, 0.67006172, 0.71876267],\n",
       "        [0.37497391, 0.23078558, 0.4417345 ],\n",
       "        [0.83572993, 0.67339316, 0.63986341]],\n",
       "\n",
       "       [[0.94091235, 0.50250447, 0.01907906],\n",
       "        [0.82301862, 0.35369631, 0.17367484],\n",
       "        [0.83559465, 0.86424492, 0.68406276],\n",
       "        [0.07240854, 0.15136706, 0.27867884],\n",
       "        [0.94257573, 0.90348974, 0.96976894]],\n",
       "\n",
       "       [[0.24309799, 0.89818797, 0.04030188],\n",
       "        [0.56867343, 0.82555158, 0.71977831],\n",
       "        [0.27081013, 0.25493822, 0.70088432],\n",
       "        [0.79692244, 0.50224796, 0.53571648],\n",
       "        [0.51075918, 0.8534039 , 0.43980446]],\n",
       "\n",
       "       [[0.4990402 , 0.48482498, 0.67141636],\n",
       "        [0.56369001, 0.143623  , 0.71346927],\n",
       "        [0.79572353, 0.92344071, 0.26101374],\n",
       "        [0.45202726, 0.24545935, 0.11028696],\n",
       "        [0.96375504, 0.71727152, 0.26922381]],\n",
       "\n",
       "       [[0.02634215, 0.67196574, 0.74113238],\n",
       "        [0.16637662, 0.08014502, 0.43177509],\n",
       "        [0.85732907, 0.40092608, 0.98395189],\n",
       "        [0.80469759, 0.65834785, 0.73458105],\n",
       "        [0.77347156, 0.58782244, 0.28062383]]])"
      ]
     },
     "execution_count": 86,
     "metadata": {},
     "output_type": "execute_result"
    }
   ],
   "source": [
    "np.random.sample((5,5,3))"
   ]
  },
  {
   "cell_type": "markdown",
   "id": "04a041f7",
   "metadata": {},
   "source": [
    "Функция  randn  из модуля  numpy.random  возвращает аналогичный массив, но уже взятый из нормального\n",
    "распределения (со средним   и среднеквадратическим отклонением  ):"
   ]
  },
  {
   "cell_type": "code",
   "execution_count": 87,
   "id": "6e1578b1",
   "metadata": {},
   "outputs": [
    {
     "data": {
      "text/plain": [
       "array([[ 0.95516266, -0.17279964, -1.2553042 ,  0.50979966],\n",
       "       [ 0.36789474,  0.37701126, -0.68751318, -1.40605508],\n",
       "       [ 1.50515593,  1.85988929, -0.45316276, -0.01855959]])"
      ]
     },
     "execution_count": 87,
     "metadata": {},
     "output_type": "execute_result"
    }
   ],
   "source": [
    "np.random.randn(3, 4)"
   ]
  },
  {
   "cell_type": "markdown",
   "id": "128643c9",
   "metadata": {},
   "source": [
    "Функция  randint  возвращает массив из целых чисел в указанном диапазоне:"
   ]
  },
  {
   "cell_type": "code",
   "execution_count": 88,
   "id": "2f47a6ab",
   "metadata": {},
   "outputs": [
    {
     "data": {
      "text/plain": [
       "array([[86, 18, 87, 62],\n",
       "       [ 6, 75, 15, 35],\n",
       "       [70, 51, 37,  3]])"
      ]
     },
     "execution_count": 88,
     "metadata": {},
     "output_type": "execute_result"
    }
   ],
   "source": [
    "np.random.randint(0, 100, (3, 4))"
   ]
  },
  {
   "cell_type": "markdown",
   "id": "d2c5aed5",
   "metadata": {},
   "source": [
    "случайные числа из массива:"
   ]
  },
  {
   "cell_type": "code",
   "execution_count": 91,
   "id": "9bba4849",
   "metadata": {},
   "outputs": [],
   "source": [
    "a=np.array([0,1,2,3,4,5,6,7,8,9])"
   ]
  },
  {
   "cell_type": "code",
   "execution_count": 92,
   "id": "ead29a97",
   "metadata": {},
   "outputs": [
    {
     "data": {
      "text/plain": [
       "7"
      ]
     },
     "execution_count": 92,
     "metadata": {},
     "output_type": "execute_result"
    }
   ],
   "source": [
    "np.random.choice(a)"
   ]
  },
  {
   "cell_type": "markdown",
   "id": "dac47885",
   "metadata": {},
   "source": [
    "## изменение формы массива"
   ]
  },
  {
   "cell_type": "code",
   "execution_count": 96,
   "id": "35bc56bd",
   "metadata": {},
   "outputs": [
    {
     "data": {
      "text/plain": [
       "array([ 0,  1,  2,  3,  4,  5,  6,  7,  8,  9, 10, 11])"
      ]
     },
     "execution_count": 96,
     "metadata": {},
     "output_type": "execute_result"
    }
   ],
   "source": [
    "b=np.arange(12)\n",
    "b"
   ]
  },
  {
   "cell_type": "code",
   "execution_count": 97,
   "id": "f92831c4",
   "metadata": {},
   "outputs": [
    {
     "data": {
      "text/plain": [
       "array([[ 0,  1,  2,  3],\n",
       "       [ 4,  5,  6,  7],\n",
       "       [ 8,  9, 10, 11]])"
      ]
     },
     "execution_count": 97,
     "metadata": {},
     "output_type": "execute_result"
    }
   ],
   "source": [
    "b.reshape(3,4)"
   ]
  },
  {
   "cell_type": "markdown",
   "id": "e31cd330",
   "metadata": {},
   "source": [
    "если не знаешь сколько нужно столбцов:"
   ]
  },
  {
   "cell_type": "code",
   "execution_count": 98,
   "id": "20a756b7",
   "metadata": {},
   "outputs": [
    {
     "data": {
      "text/plain": [
       "array([[ 0,  1,  2,  3],\n",
       "       [ 4,  5,  6,  7],\n",
       "       [ 8,  9, 10, 11]])"
      ]
     },
     "execution_count": 98,
     "metadata": {},
     "output_type": "execute_result"
    }
   ],
   "source": [
    "np.reshape(b, (3,-1))"
   ]
  },
  {
   "cell_type": "markdown",
   "id": "30b4d8c7",
   "metadata": {},
   "source": [
    "если не знаешь сколько нужно строк:"
   ]
  },
  {
   "cell_type": "code",
   "execution_count": 99,
   "id": "d7738d48",
   "metadata": {},
   "outputs": [
    {
     "data": {
      "text/plain": [
       "array([[ 0,  1,  2,  3],\n",
       "       [ 4,  5,  6,  7],\n",
       "       [ 8,  9, 10, 11]])"
      ]
     },
     "execution_count": 99,
     "metadata": {},
     "output_type": "execute_result"
    }
   ],
   "source": [
    "np.reshape(b,(-1,4))"
   ]
  },
  {
   "cell_type": "markdown",
   "id": "0ff4abda",
   "metadata": {},
   "source": [
    "inplace:"
   ]
  },
  {
   "cell_type": "code",
   "execution_count": 101,
   "id": "a94d5db5",
   "metadata": {},
   "outputs": [
    {
     "data": {
      "text/plain": [
       "array([[ 0,  1,  2,  3],\n",
       "       [ 4,  5,  6,  7],\n",
       "       [ 8,  9, 10, 11]])"
      ]
     },
     "execution_count": 101,
     "metadata": {},
     "output_type": "execute_result"
    }
   ],
   "source": [
    "b.resize(3,4)\n",
    "b"
   ]
  },
  {
   "cell_type": "markdown",
   "id": "6da0a462",
   "metadata": {},
   "source": [
    "обратно в одномерный массив:"
   ]
  },
  {
   "cell_type": "code",
   "execution_count": 104,
   "id": "0a7a5c13",
   "metadata": {},
   "outputs": [
    {
     "data": {
      "text/plain": [
       "array([ 0,  1,  2,  3,  4,  5,  6,  7,  8,  9, 10, 11])"
      ]
     },
     "execution_count": 104,
     "metadata": {},
     "output_type": "execute_result"
    }
   ],
   "source": [
    "b=b.flatten()\n",
    "b"
   ]
  },
  {
   "cell_type": "markdown",
   "id": "e873a8a3",
   "metadata": {},
   "source": [
    "объединение массивов по вертикали:"
   ]
  },
  {
   "cell_type": "code",
   "execution_count": 111,
   "id": "646d1f3f",
   "metadata": {},
   "outputs": [
    {
     "data": {
      "text/plain": [
       "array([[0., 0., 0.],\n",
       "       [0., 0., 0.]])"
      ]
     },
     "execution_count": 111,
     "metadata": {},
     "output_type": "execute_result"
    }
   ],
   "source": [
    "a=np.zeros((2,3))\n",
    "a"
   ]
  },
  {
   "cell_type": "code",
   "execution_count": 112,
   "id": "c1338fd6",
   "metadata": {},
   "outputs": [
    {
     "data": {
      "text/plain": [
       "array([[1., 1., 1.],\n",
       "       [1., 1., 1.]])"
      ]
     },
     "execution_count": 112,
     "metadata": {},
     "output_type": "execute_result"
    }
   ],
   "source": [
    "b=np.ones((2,3))\n",
    "b"
   ]
  },
  {
   "cell_type": "code",
   "execution_count": 113,
   "id": "33afe110",
   "metadata": {},
   "outputs": [
    {
     "data": {
      "text/plain": [
       "array([[0., 0., 0.],\n",
       "       [0., 0., 0.],\n",
       "       [1., 1., 1.],\n",
       "       [1., 1., 1.]])"
      ]
     },
     "execution_count": 113,
     "metadata": {},
     "output_type": "execute_result"
    }
   ],
   "source": [
    "v=np.vstack((a,b))\n",
    "v"
   ]
  },
  {
   "cell_type": "code",
   "execution_count": 109,
   "id": "896029d4",
   "metadata": {},
   "outputs": [
    {
     "data": {
      "text/plain": [
       "array([[0., 0., 0.],\n",
       "       [0., 0., 0.],\n",
       "       [1., 1., 1.],\n",
       "       [1., 1., 1.]])"
      ]
     },
     "execution_count": 109,
     "metadata": {},
     "output_type": "execute_result"
    }
   ],
   "source": [
    "np.concatenate((a,b),axis=0)"
   ]
  },
  {
   "cell_type": "markdown",
   "id": "0dee1bb6",
   "metadata": {},
   "source": [
    "по горизонтали:"
   ]
  },
  {
   "cell_type": "code",
   "execution_count": 114,
   "id": "4e017a59",
   "metadata": {},
   "outputs": [
    {
     "data": {
      "text/plain": [
       "array([[0., 0., 0., 1., 1., 1.],\n",
       "       [0., 0., 0., 1., 1., 1.]])"
      ]
     },
     "execution_count": 114,
     "metadata": {},
     "output_type": "execute_result"
    }
   ],
   "source": [
    "h=np.hstack((a,b))\n",
    "h"
   ]
  },
  {
   "cell_type": "code",
   "execution_count": 115,
   "id": "d93a3778",
   "metadata": {},
   "outputs": [
    {
     "data": {
      "text/plain": [
       "array([[0., 0., 0., 1., 1., 1.],\n",
       "       [0., 0., 0., 1., 1., 1.]])"
      ]
     },
     "execution_count": 115,
     "metadata": {},
     "output_type": "execute_result"
    }
   ],
   "source": [
    "np.concatenate((a,b),axis=1)"
   ]
  },
  {
   "cell_type": "markdown",
   "id": "2e52cbf0",
   "metadata": {},
   "source": [
    "в глубину:"
   ]
  },
  {
   "cell_type": "code",
   "execution_count": 116,
   "id": "56ffed1e",
   "metadata": {},
   "outputs": [
    {
     "data": {
      "text/plain": [
       "array([[[0., 1.],\n",
       "        [0., 1.],\n",
       "        [0., 1.]],\n",
       "\n",
       "       [[0., 1.],\n",
       "        [0., 1.],\n",
       "        [0., 1.]]])"
      ]
     },
     "execution_count": 116,
     "metadata": {},
     "output_type": "execute_result"
    }
   ],
   "source": [
    "d=np.dstack((a,b))\n",
    "d"
   ]
  },
  {
   "cell_type": "markdown",
   "id": "aa1a8dd2",
   "metadata": {},
   "source": [
    "## выбор данных"
   ]
  },
  {
   "cell_type": "code",
   "execution_count": 117,
   "id": "ed756ecd",
   "metadata": {},
   "outputs": [
    {
     "data": {
      "text/plain": [
       "array([ 7,  5,  6, 11, 11, 17, 18,  6,  5,  1])"
      ]
     },
     "execution_count": 117,
     "metadata": {},
     "output_type": "execute_result"
    }
   ],
   "source": [
    "a = np.random.randint(0, 20, 10)\n",
    "a"
   ]
  },
  {
   "cell_type": "code",
   "execution_count": 118,
   "id": "efbe76f0",
   "metadata": {},
   "outputs": [
    {
     "data": {
      "text/plain": [
       "array([11, 11, 17, 18])"
      ]
     },
     "execution_count": 118,
     "metadata": {},
     "output_type": "execute_result"
    }
   ],
   "source": [
    "b = a[a > 10]\n",
    "b"
   ]
  },
  {
   "cell_type": "code",
   "execution_count": 120,
   "id": "1e57d3d0",
   "metadata": {},
   "outputs": [
    {
     "data": {
      "text/plain": [
       "array([ 6, 18,  6])"
      ]
     },
     "execution_count": 120,
     "metadata": {},
     "output_type": "execute_result"
    }
   ],
   "source": [
    "c = a[(a > 0) & (a % 2 ==0)] #and\n",
    "c"
   ]
  },
  {
   "cell_type": "code",
   "execution_count": 121,
   "id": "5f7c5a07",
   "metadata": {},
   "outputs": [
    {
     "data": {
      "text/plain": [
       "array([ 7,  5,  6, 11, 11, 17, 18,  6,  5,  1])"
      ]
     },
     "execution_count": 121,
     "metadata": {},
     "output_type": "execute_result"
    }
   ],
   "source": [
    "a[(a > 0) | (a % 3 ==0)] #or"
   ]
  },
  {
   "cell_type": "code",
   "execution_count": 122,
   "id": "89e331b1",
   "metadata": {},
   "outputs": [
    {
     "data": {
      "text/plain": [
       "(array([3, 4, 5, 6]),)"
      ]
     },
     "execution_count": 122,
     "metadata": {},
     "output_type": "execute_result"
    }
   ],
   "source": [
    "np.where(a>10) #index"
   ]
  },
  {
   "cell_type": "code",
   "execution_count": 123,
   "id": "884fdd93",
   "metadata": {},
   "outputs": [
    {
     "data": {
      "text/plain": [
       "array([ 1,  6, 10])"
      ]
     },
     "execution_count": 123,
     "metadata": {},
     "output_type": "execute_result"
    }
   ],
   "source": [
    "a=[1,5,10]\n",
    "b=[2,6,11]\n",
    "np.where([True,False,True],a,b) #True from a, False from B"
   ]
  },
  {
   "cell_type": "markdown",
   "id": "aa0ca920",
   "metadata": {},
   "source": [
    "## сортировка"
   ]
  },
  {
   "cell_type": "code",
   "execution_count": 139,
   "id": "143033a5",
   "metadata": {},
   "outputs": [],
   "source": [
    "a=np.array([[2, 4, 3, 3], \n",
    "            [2, 2, 2, 4], \n",
    "            [5, 2, 0, 3]])"
   ]
  },
  {
   "cell_type": "markdown",
   "id": "5f073193",
   "metadata": {},
   "source": [
    "Допустим, мы хотим отсортировать строки этого массива по второму столбцу. Мы можем сделать это вручную, задав индексы строк в нужном нам порядке:"
   ]
  },
  {
   "cell_type": "code",
   "execution_count": 140,
   "id": "19892082",
   "metadata": {},
   "outputs": [
    {
     "data": {
      "text/plain": [
       "array([[2, 2, 2, 4],\n",
       "       [5, 2, 0, 3],\n",
       "       [2, 4, 3, 3]])"
      ]
     },
     "execution_count": 140,
     "metadata": {},
     "output_type": "execute_result"
    }
   ],
   "source": [
    "a[[1,2,0],:]"
   ]
  },
  {
   "cell_type": "markdown",
   "id": "97705349",
   "metadata": {},
   "source": [
    "Этот процесс можно автоматизировать с помощью метода  a.argsort . Данный метод возвращает массив из\n",
    "индексов массива  a  в порядке их возрастания по заданной оси:"
   ]
  },
  {
   "cell_type": "code",
   "execution_count": 141,
   "id": "d0f7de43",
   "metadata": {},
   "outputs": [
    {
     "data": {
      "text/plain": [
       "array([[0, 1, 2, 0],\n",
       "       [1, 2, 1, 2],\n",
       "       [2, 0, 0, 1]])"
      ]
     },
     "execution_count": 141,
     "metadata": {},
     "output_type": "execute_result"
    }
   ],
   "source": [
    "a.argsort(axis=0) #строки"
   ]
  },
  {
   "cell_type": "markdown",
   "id": "c06b44dc",
   "metadata": {},
   "source": [
    "В каждом столбце этого массива стоят индексы строк массива  a , расположенные в том порядке, в котором они бы\n",
    "отсортировали данный столбец по возрастанию. Автоматизируем процесс сортировки массива  a  по второму\n",
    "столбцу. Для этого нужно получить второй столбец из массива, полученного с помощью метода  a.argsort :"
   ]
  },
  {
   "cell_type": "code",
   "execution_count": 143,
   "id": "7437fc40",
   "metadata": {},
   "outputs": [
    {
     "data": {
      "text/plain": [
       "array([1, 2, 0])"
      ]
     },
     "execution_count": 143,
     "metadata": {},
     "output_type": "execute_result"
    }
   ],
   "source": [
    "ind1 = a[:, 1].argsort()\n",
    " \n",
    "ind1"
   ]
  },
  {
   "cell_type": "code",
   "execution_count": 144,
   "id": "ec06e0bd",
   "metadata": {},
   "outputs": [
    {
     "data": {
      "text/plain": [
       "array([[2, 2, 2, 4],\n",
       "       [5, 2, 0, 3],\n",
       "       [2, 4, 3, 3]])"
      ]
     },
     "execution_count": 144,
     "metadata": {},
     "output_type": "execute_result"
    }
   ],
   "source": [
    "c = a[a[:, 1].argsort(), :]\n",
    " \n",
    "c"
   ]
  },
  {
   "cell_type": "markdown",
   "id": "30c55e1f",
   "metadata": {},
   "source": [
    "## перемешивание"
   ]
  },
  {
   "cell_type": "code",
   "execution_count": 146,
   "id": "2e2ce579",
   "metadata": {},
   "outputs": [
    {
     "data": {
      "text/plain": [
       "array([0, 1, 2, 3, 4, 5, 6, 7, 8, 9])"
      ]
     },
     "execution_count": 146,
     "metadata": {},
     "output_type": "execute_result"
    }
   ],
   "source": [
    "a=np.arange(10)\n",
    "a"
   ]
  },
  {
   "cell_type": "code",
   "execution_count": 148,
   "id": "a69239d8",
   "metadata": {},
   "outputs": [
    {
     "data": {
      "text/plain": [
       "array([2, 3, 4, 1, 0, 7, 5, 9, 6, 8])"
      ]
     },
     "execution_count": 148,
     "metadata": {},
     "output_type": "execute_result"
    }
   ],
   "source": [
    "#inplace\n",
    "np.random.shuffle(a)\n",
    "a"
   ]
  },
  {
   "cell_type": "markdown",
   "id": "ee56d74b",
   "metadata": {},
   "source": [
    "двумерные массивы:"
   ]
  },
  {
   "cell_type": "code",
   "execution_count": 149,
   "id": "7e74846f",
   "metadata": {},
   "outputs": [
    {
     "data": {
      "text/plain": [
       "array([[5, 2, 0, 3],\n",
       "       [2, 4, 3, 3],\n",
       "       [2, 2, 2, 4]])"
      ]
     },
     "execution_count": 149,
     "metadata": {},
     "output_type": "execute_result"
    }
   ],
   "source": [
    "a=np.array([[2, 4, 3, 3], \n",
    "            [2, 2, 2, 4], \n",
    "            [5, 2, 0, 3]])\n",
    "np.random.shuffle(a)\n",
    "a"
   ]
  },
  {
   "cell_type": "markdown",
   "id": "26b844e0",
   "metadata": {},
   "source": [
    "## математические действия с массивами"
   ]
  },
  {
   "cell_type": "code",
   "execution_count": 151,
   "id": "f10aeac5",
   "metadata": {},
   "outputs": [
    {
     "data": {
      "text/plain": [
       "array([[0, 1, 2],\n",
       "       [3, 4, 5]])"
      ]
     },
     "execution_count": 151,
     "metadata": {},
     "output_type": "execute_result"
    }
   ],
   "source": [
    "a = np.arange(0, 6).reshape(2, 3)\n",
    "a"
   ]
  },
  {
   "cell_type": "code",
   "execution_count": 152,
   "id": "ca83bff0",
   "metadata": {},
   "outputs": [
    {
     "data": {
      "text/plain": [
       "array([[ 6,  7,  8],\n",
       "       [ 9, 10, 11]])"
      ]
     },
     "execution_count": 152,
     "metadata": {},
     "output_type": "execute_result"
    }
   ],
   "source": [
    "b = np.arange(6, 12).reshape(2, 3)\n",
    "b"
   ]
  },
  {
   "cell_type": "code",
   "execution_count": 153,
   "id": "7e66f493",
   "metadata": {},
   "outputs": [
    {
     "data": {
      "text/plain": [
       "array([[ 6,  8, 10],\n",
       "       [12, 14, 16]])"
      ]
     },
     "execution_count": 153,
     "metadata": {},
     "output_type": "execute_result"
    }
   ],
   "source": [
    "a + b"
   ]
  },
  {
   "cell_type": "code",
   "execution_count": 154,
   "id": "b1671046",
   "metadata": {},
   "outputs": [
    {
     "data": {
      "text/plain": [
       "array([[1, 2, 3],\n",
       "       [4, 5, 6]])"
      ]
     },
     "execution_count": 154,
     "metadata": {},
     "output_type": "execute_result"
    }
   ],
   "source": [
    "a + 1"
   ]
  },
  {
   "cell_type": "markdown",
   "id": "13a9a8a3",
   "metadata": {},
   "source": [
    "С помощью метода  a.sum  можно посчитать сумму всех значений массива. Если указать в этом методе ось  axis ,\n",
    "сумма будет посчитана только вдоль этой оси:"
   ]
  },
  {
   "cell_type": "code",
   "execution_count": 155,
   "id": "124a097f",
   "metadata": {},
   "outputs": [
    {
     "name": "stdout",
     "output_type": "stream",
     "text": [
      "Сумма всех элементов: 15\n",
      "Сумма по столбцам (\"вдоль\" строк): [3 5 7]\n",
      "Сумма по строкам (\"вдоль\" столбцов): [ 3 12]\n"
     ]
    }
   ],
   "source": [
    "print(\"Сумма всех элементов: {}\".format(a.sum()))\n",
    "print('Сумма по столбцам (\"вдоль\" строк): {}'.format(a.sum(axis=0)))\n",
    "print('Сумма по строкам (\"вдоль\" столбцов): {}'.format(a.sum(axis=1)))"
   ]
  },
  {
   "cell_type": "markdown",
   "id": "ee60cc37",
   "metadata": {},
   "source": [
    "## broadcasting\n",
    "\n",
    "https://docs.scipy.org/doc/numpy/user/basics.broadcasting.html\n",
    "\n",
    "В определённых случаях мы можем выполнять операции сложения и умножения над матрицами разных размеров.\n",
    "Концепция broadcasting заключается в том, что в некоторых случаях интерпретатор \"догадывается\", что одну массив\n",
    "надо в каком-то измерении \"растянуть\" до соответствия со вторым массивом. "
   ]
  },
  {
   "cell_type": "code",
   "execution_count": 156,
   "id": "3fe5ebae",
   "metadata": {},
   "outputs": [],
   "source": [
    "a = np.array([[2, 5],\n",
    "              [3, 4],\n",
    "              [6, 1]])\n",
    "b = np.array([1, 2])"
   ]
  },
  {
   "cell_type": "markdown",
   "id": "959b08da",
   "metadata": {},
   "source": [
    "Если мы попытаемся их сложить, интерпретатор заметит, что у них совпадает одно из измерений: у них обоих \n",
    "столбца. Поэтому интерпретатор как бы \"растянет\" массив  b  до размера 2*3 и прибавит его к массиву  a "
   ]
  },
  {
   "cell_type": "code",
   "execution_count": 157,
   "id": "41c8d5cd",
   "metadata": {},
   "outputs": [
    {
     "data": {
      "text/plain": [
       "array([[3, 7],\n",
       "       [4, 6],\n",
       "       [7, 3]])"
      ]
     },
     "execution_count": 157,
     "metadata": {},
     "output_type": "execute_result"
    }
   ],
   "source": [
    "a+b"
   ]
  },
  {
   "cell_type": "markdown",
   "id": "d6d6c501",
   "metadata": {},
   "source": [
    "## Статистические функции\n",
    "Вот несколько методов, позволяющих вычислить различные статистики массива  a :\n",
    "\n",
    "a.min  - минимальное значение\n",
    "\n",
    "a.max  - максимальное значение\n",
    "\n",
    "a.mean  - среднее значение\n",
    "\n",
    "a.std  - среднее квадратическое отклонение\n",
    "\n",
    "Все эти значения считаются по всему массиву, либо вдоль определённой оси, если задан параметр  axis ."
   ]
  },
  {
   "cell_type": "code",
   "execution_count": 158,
   "id": "ecb0b95a",
   "metadata": {},
   "outputs": [
    {
     "name": "stdout",
     "output_type": "stream",
     "text": [
      "Минимальное значение: 1\n",
      "Средние значения строк: [3.5 3.5 3.5]\n",
      "Средние квадратические отклонения столбцов: [3.66666667 3.33333333]\n"
     ]
    }
   ],
   "source": [
    "print(\"Минимальное значение: {}\".format(a.min()))\n",
    " \n",
    "print(\"Средние значения строк: {}\".format(a.mean(axis=1)))\n",
    " \n",
    "print(\"Средние квадратические отклонения столбцов: {}\".format(a.mean(axis=0)))"
   ]
  },
  {
   "cell_type": "markdown",
   "id": "2b3ccea8",
   "metadata": {},
   "source": [
    "## Запись и чтение массивов из файла"
   ]
  },
  {
   "cell_type": "code",
   "execution_count": 159,
   "id": "10f738aa",
   "metadata": {},
   "outputs": [],
   "source": [
    "np.save(\"a.npy\", a)"
   ]
  },
  {
   "cell_type": "code",
   "execution_count": 160,
   "id": "0523b7dd",
   "metadata": {},
   "outputs": [],
   "source": [
    "a = np.load(\"a.npy\")"
   ]
  }
 ],
 "metadata": {
  "kernelspec": {
   "display_name": "Python 3 (ipykernel)",
   "language": "python",
   "name": "python3"
  },
  "language_info": {
   "codemirror_mode": {
    "name": "ipython",
    "version": 3
   },
   "file_extension": ".py",
   "mimetype": "text/x-python",
   "name": "python",
   "nbconvert_exporter": "python",
   "pygments_lexer": "ipython3",
   "version": "3.8.10"
  }
 },
 "nbformat": 4,
 "nbformat_minor": 5
}
